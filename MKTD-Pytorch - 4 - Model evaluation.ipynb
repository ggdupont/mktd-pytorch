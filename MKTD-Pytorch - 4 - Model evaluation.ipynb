{
 "cells": [
  {
   "cell_type": "markdown",
   "metadata": {},
   "source": [
    "# Exercices\n",
    "With each exercice will teach you one aspect of deep learning. The process of machine learning can be decompose in 7 steps :\n",
    "\n",
    "* Data preparation\n",
    "* Model definition\n",
    "* Model training\n",
    "* Model evaluation\n",
    "* Hyperparameter tuning\n",
    "* Prediction"
   ]
  },
  {
   "cell_type": "markdown",
   "metadata": {},
   "source": [
    "## 4 - Model evaluation\n",
    "\n",
    "- 4.1 Visualize metrics during training (matplot)\n",
    "- 4.2 Detect overfitting / underfitting\n",
    "- 4.2 Validate model with unseen dataset\n",
    "- 4.3 Visualize confusion matrix"
   ]
  },
  {
   "cell_type": "markdown",
   "metadata": {},
   "source": [
    "### Load dataset"
   ]
  },
  {
   "cell_type": "code",
   "execution_count": 1,
   "metadata": {},
   "outputs": [],
   "source": [
    "import matplotlib.pyplot as plt\n",
    "import numpy as np\n",
    "\n",
    "def imshow(images, labels):\n",
    "    npimg = images.numpy()\n",
    "    plt.imshow(np.transpose(npimg, (1, 2, 0)))\n",
    "    plt.title(\"Ground Truth: {}\".format(labels))\n",
    "\n",
    "classes = ('0', '1', '2', '3', '4', '5', '6', '7', '8', '9')"
   ]
  },
  {
   "cell_type": "code",
   "execution_count": 2,
   "metadata": {},
   "outputs": [],
   "source": [
    "import torchvision.datasets as dset\n",
    "import torchvision.transforms as transforms\n",
    "from torch.utils.data import DataLoader\n",
    "\n",
    "data_path = './data'\n",
    "\n",
    "trans = transforms.Compose([transforms.Resize((32, 32)), transforms.ToTensor()])\n",
    "\n",
    "# if not exist, download mnist dataset\n",
    "train_set = dset.MNIST(root=data_path, train=True, transform=trans, download=True)\n",
    "test_set = dset.MNIST(root=data_path, train=False, transform=trans, download=True)\n",
    "\n",
    "batch = 4\n",
    "\n",
    "data_train_loader = DataLoader(train_set, batch_size=batch, shuffle=True, num_workers=8)\n",
    "data_test_loader = DataLoader(test_set, batch_size=batch, num_workers=8)"
   ]
  },
  {
   "cell_type": "markdown",
   "metadata": {},
   "source": [
    "### Network architecture"
   ]
  },
  {
   "cell_type": "code",
   "execution_count": 3,
   "metadata": {},
   "outputs": [],
   "source": [
    "from __future__ import print_function\n",
    "import torch\n",
    "import torch.nn as nn\n",
    "import torch.nn.functional as F\n",
    "import torch.optim as optim\n",
    "\n",
    "class Net(nn.Module):\n",
    "\n",
    "    def __init__(self):\n",
    "        super(Net, self).__init__()\n",
    "        # 1 input image channel, 6 output channels, 5x5 square convolution\n",
    "        # kernel\n",
    "        self.conv1 = nn.Conv2d(1, 6, 5)\n",
    "        self.conv2 = nn.Conv2d(6, 16, 5)\n",
    "        # an affine operation: y = Wx + b\n",
    "        self.fc1 = nn.Linear(16 * 5 * 5, 120)\n",
    "        self.fc2 = nn.Linear(120, 84)\n",
    "        self.fc3 = nn.Linear(84, 10)\n",
    "\n",
    "    def forward(self, x):\n",
    "        # Max pooling over a (2, 2) window\n",
    "        x = F.max_pool2d(F.relu(self.conv1(x)), (2, 2))\n",
    "        # If the size is a square you can only specify a single number\n",
    "        x = F.max_pool2d(F.relu(self.conv2(x)), 2)\n",
    "        x = x.view(-1, self.num_flat_features(x))\n",
    "        x = F.relu(self.fc1(x))\n",
    "        x = F.relu(self.fc2(x))\n",
    "        x = self.fc3(x)\n",
    "        return x\n",
    "\n",
    "    def num_flat_features(self, x):\n",
    "        size = x.size()[1:]  # all dimensions except the batch dimension\n",
    "        num_features = 1\n",
    "        for s in size:\n",
    "            num_features *= s\n",
    "        return num_features"
   ]
  },
  {
   "cell_type": "markdown",
   "metadata": {},
   "source": [
    "### Load leNet & co."
   ]
  },
  {
   "cell_type": "code",
   "execution_count": 4,
   "metadata": {},
   "outputs": [],
   "source": [
    "leVieuxNet = Net()\n",
    "optimizer = optim.SGD(leVieuxNet.parameters(), lr=0.01)\n",
    "\n",
    "checkpoint = torch.load('checkpoint-MKTD-pytorch-3.last')\n",
    "leVieuxNet.load_state_dict(checkpoint['model_state_dict'])\n",
    "optimizer.load_state_dict(checkpoint['optimizer_state_dict'])\n",
    "epoch = checkpoint['epoch']\n",
    "loss = checkpoint['loss']"
   ]
  },
  {
   "cell_type": "markdown",
   "metadata": {},
   "source": [
    "### Compute performance on test set"
   ]
  },
  {
   "cell_type": "code",
   "execution_count": 5,
   "metadata": {},
   "outputs": [],
   "source": [
    "def compute_accuracy(test_data, network):\n",
    "    correct = 0\n",
    "    total = 0\n",
    "    with torch.no_grad():\n",
    "        for data in test_data:\n",
    "            images, labels = data\n",
    "            outputs = network(images)\n",
    "            _, predicted = torch.max(outputs.data, 1)\n",
    "            total += labels.size(0)\n",
    "            correct += (predicted == labels).sum().item()\n",
    "    return 100 * correct / total"
   ]
  },
  {
   "cell_type": "code",
   "execution_count": 6,
   "metadata": {},
   "outputs": [
    {
     "name": "stdout",
     "output_type": "stream",
     "text": [
      "Accuracy of the network on the 2500 test images: 96.870%\n"
     ]
    }
   ],
   "source": [
    "acc = compute_accuracy(data_test_loader, leVieuxNet)\n",
    "            \n",
    "print('Accuracy of the network on the {} test images: {:.3f}%'.format(len(data_test_loader), acc))"
   ]
  },
  {
   "cell_type": "markdown",
   "metadata": {},
   "source": [
    "### Train another net with another loss "
   ]
  },
  {
   "cell_type": "code",
   "execution_count": 7,
   "metadata": {},
   "outputs": [],
   "source": [
    "leNet = Net()\n",
    "criterion = nn.CrossEntropyLoss()\n",
    "optimizer = optim.SGD(leNet.parameters(), lr=0.01)"
   ]
  },
  {
   "cell_type": "code",
   "execution_count": 7,
   "metadata": {},
   "outputs": [],
   "source": [
    "def train(model, criterion, optimizer, train_data, max_epoch):\n",
    "\n",
    "    for epoch in range(max_epoch):  # loop over the dataset multiple times\n",
    "        model.train()\n",
    "\n",
    "        running_loss = 0.0\n",
    "        for i, (images, labels) in enumerate(train_data):\n",
    "            # zero the parameter gradients\n",
    "            optimizer.zero_grad()\n",
    "\n",
    "            # forward + backward + optimize\n",
    "            outputs = model(images)\n",
    "\n",
    "            # align vectors labels <=> outputs\n",
    "#             label_vect = torch.zeros(outputs.shape[0], outputs.shape[1], dtype=torch.long)\n",
    "#             for j in range(0, len(labels)):\n",
    "#                 label_vect[j, labels[j]] = 1.0 \n",
    "            \n",
    "            loss = criterion(outputs, labels)\n",
    "\n",
    "            loss.backward()\n",
    "            optimizer.step()\n",
    "\n",
    "            # print statistics\n",
    "            running_loss += loss.item()\n",
    "\n",
    "        print('[{:d}] loss: {:.5f}'.format(epoch + 1, running_loss / (batch*len(train_data))))\n",
    "\n",
    "    print('Finished Training')"
   ]
  },
  {
   "cell_type": "code",
   "execution_count": 9,
   "metadata": {},
   "outputs": [
    {
     "name": "stdout",
     "output_type": "stream",
     "text": [
      "[1] loss: 0.07958\n",
      "[2] loss: 0.01790\n",
      "[3] loss: 0.01248\n",
      "Finished Training\n"
     ]
    }
   ],
   "source": [
    "train(leNet, criterion, optimizer, data_train_loader, 3)"
   ]
  },
  {
   "cell_type": "code",
   "execution_count": 10,
   "metadata": {},
   "outputs": [
    {
     "name": "stdout",
     "output_type": "stream",
     "text": [
      "Accuracy of the network on the 2500 test images: 98.750%\n"
     ]
    }
   ],
   "source": [
    "acc = compute_accuracy(data_test_loader, leNet)\n",
    "            \n",
    "print('Accuracy of the network on the {} test images: {:.3f}%'.format(len(data_test_loader), acc))"
   ]
  },
  {
   "cell_type": "markdown",
   "metadata": {},
   "source": [
    "## Testing another gradient descent variant\n",
    "\n",
    "http://ruder.io/optimizing-gradient-descent/"
   ]
  },
  {
   "cell_type": "code",
   "execution_count": 12,
   "metadata": {},
   "outputs": [
    {
     "name": "stdout",
     "output_type": "stream",
     "text": [
      "[1] loss: 0.03827\n",
      "[2] loss: 0.02071\n",
      "[3] loss: 0.01831\n",
      "Finished Training\n",
      "Accuracy of the network on the 2500 test images: 98.090%\n"
     ]
    }
   ],
   "source": [
    "leNet = Net()\n",
    "criterion = nn.CrossEntropyLoss()\n",
    "optimizer = optim.Adam(leNet.parameters(), lr=2e-3)\n",
    "epoch = 3\n",
    "train(leNet, criterion, optimizer, data_train_loader, epoch)\n",
    "acc = compute_accuracy(data_test_loader, leNet)\n",
    "            \n",
    "print('Accuracy of the network on the {} test images: {:.3f}%'.format(len(data_test_loader), acc))"
   ]
  },
  {
   "cell_type": "markdown",
   "metadata": {},
   "source": [
    "### Checking precision per class"
   ]
  },
  {
   "cell_type": "code",
   "execution_count": 8,
   "metadata": {},
   "outputs": [],
   "source": [
    "def perf_analysis(leNet, data_test_loader, classes):\n",
    "\n",
    "    class_correct = list(0. for i in range(len(classes)))\n",
    "    class_total = list(0. for i in range(len(classes)))\n",
    "\n",
    "    confusion_matrix = np.zeros((len(classes), len(classes)), dtype=int) \n",
    "\n",
    "    with torch.no_grad():\n",
    "        for data in data_test_loader:\n",
    "            images, labels = data\n",
    "            outputs = leNet(images)\n",
    "            _, predicted = torch.max(outputs, 1)\n",
    "            c = (predicted == labels).squeeze()\n",
    "            for i in range(batch):\n",
    "                label = labels[i]\n",
    "                class_correct[label] += c[i].item()\n",
    "                class_total[label] += 1\n",
    "                #print('ground thruth={} | prediction={}'.format(label, predicted[i]))\n",
    "                confusion_matrix[label][predicted[i]] += 1\n",
    "                \n",
    "    return class_correct, class_total, confusion_matrix"
   ]
  },
  {
   "cell_type": "code",
   "execution_count": 33,
   "metadata": {},
   "outputs": [
    {
     "name": "stdout",
     "output_type": "stream",
     "text": [
      "Precision of 0: 99.081633%\n",
      "Precision of 1: 99.471366%\n",
      "Precision of 2: 97.965116%\n",
      "Precision of 3: 98.910891%\n",
      "Precision of 4: 95.315682%\n",
      "Precision of 5: 97.645740%\n",
      "Precision of 6: 98.329854%\n",
      "Precision of 7: 98.929961%\n",
      "Precision of 8: 97.433265%\n",
      "Precision of 9: 97.522299%\n"
     ]
    }
   ],
   "source": [
    "class_correct, class_total, confusion_matrix = perf_analysis(leNet, data_test_loader, classes)\n",
    "for i in range(len(classes)):\n",
    "    print('Precision of {:s}: {:2f}%'.format(classes[i], 100 * class_correct[i] / class_total[i]))"
   ]
  },
  {
   "cell_type": "markdown",
   "metadata": {},
   "source": [
    "### Checking confusion matrix"
   ]
  },
  {
   "cell_type": "code",
   "execution_count": 9,
   "metadata": {},
   "outputs": [],
   "source": [
    "def display_confusion_matrix(confusion_matrix, classes):\n",
    "    print(confusion_matrix)\n",
    "\n",
    "    fig, ax = plt.subplots()\n",
    "    im = ax.imshow(np.log(confusion_matrix+1))\n",
    "\n",
    "    ax.set_xticks(np.arange(len(classes)))\n",
    "    ax.set_yticks(np.arange(len(classes)))\n",
    "    ax.set_xticklabels(classes)\n",
    "    ax.set_yticklabels(classes)\n",
    "\n",
    "    ax.set_title(\"Confusion matrix (log scale)\")\n",
    "\n",
    "    plt.xlabel('Predictions')\n",
    "    plt.ylabel('Ground thruth')\n",
    "\n",
    "    fig.tight_layout()\n",
    "    plt.show()"
   ]
  },
  {
   "cell_type": "code",
   "execution_count": 38,
   "metadata": {},
   "outputs": [
    {
     "name": "stdout",
     "output_type": "stream",
     "text": [
      "[[ 972    0    1    0    0    1    3    0    1    2]\n",
      " [   0 1123    3    4    0    1    2    2    0    0]\n",
      " [   1    2  983    5    1    0    0   36    4    0]\n",
      " [   0    0    0  997    0   10    0    1    1    1]\n",
      " [   0    1    0    0  972    0    0    1    0    8]\n",
      " [   0    0    0    6    0  877    3    0    0    6]\n",
      " [   5    2    3    0    9    7  927    0    3    2]\n",
      " [   0    3    1    0    0    0    0 1022    0    2]\n",
      " [   4    1    3    4    4    3    1    8  935   11]\n",
      " [   0    2    0    2    5    4    0   11    1  984]]\n"
     ]
    },
    {
     "data": {
      "image/png": "[encoded data removed]",
      "text/plain": [
       "<Figure size 432x288 with 1 Axes>"
      ]
     },
     "metadata": {
      "needs_background": "light"
     },
     "output_type": "display_data"
    }
   ],
   "source": [
    "display_confusion_matrix(confusion_matrix, classes)"
   ]
  },
  {
   "cell_type": "markdown",
   "metadata": {},
   "source": [
    "## And another one"
   ]
  },
  {
   "cell_type": "code",
   "execution_count": 39,
   "metadata": {},
   "outputs": [
    {
     "name": "stdout",
     "output_type": "stream",
     "text": [
      "[1] loss: 0.01840\n",
      "[2] loss: 0.00828\n",
      "[3] loss: 0.00686\n",
      "Finished Training\n",
      "Accuracy of the network on the 1250 test images: 97.760%\n",
      "[[ 976    0    1    0    0    0    1    1    1    0]\n",
      " [   0 1104    2    3    0    0    4   12   10    0]\n",
      " [   4    0 1008    2    0    0    0   18    0    0]\n",
      " [   0    0    0 1004    0    2    0    3    0    1]\n",
      " [   1    3    1    0  894    0    3    7    3   70]\n",
      " [   1    0    0    8    0  881    1    1    0    0]\n",
      " [   4    2    1    1    1    2  946    0    1    0]\n",
      " [   0    0    6    2    0    0    0 1015    0    5]\n",
      " [   5    0    2    7    0    1    0    3  955    1]\n",
      " [   1    0    0    0    0    2    0    8    5  993]]\n"
     ]
    },
    {
     "data": {
      "image/png": "[encoded data removed]",
      "text/plain": [
       "<Figure size 432x288 with 1 Axes>"
      ]
     },
     "metadata": {
      "needs_background": "light"
     },
     "output_type": "display_data"
    }
   ],
   "source": [
    "batch = 8\n",
    "\n",
    "data_train_loader = DataLoader(train_set, batch_size=batch, shuffle=True, num_workers=8)\n",
    "data_test_loader = DataLoader(test_set, batch_size=batch, num_workers=8)\n",
    "\n",
    "leNet = Net()\n",
    "criterion = nn.CrossEntropyLoss()\n",
    "optimizer = optim.Adam(leNet.parameters(), lr=2e-3)\n",
    "\n",
    "epoch = 3\n",
    "train(leNet, criterion, optimizer, data_train_loader, epoch)\n",
    "\n",
    "acc = compute_accuracy(data_test_loader, leNet)\n",
    "      \n",
    "print('Accuracy of the network on the {} test images: {:.3f}%'.format(len(data_test_loader), acc))\n",
    "\n",
    "class_correct, class_total, confusion_matrix = perf_analysis(leNet, data_test_loader, classes)\n",
    "\n",
    "display_confusion_matrix(confusion_matrix, classes)"
   ]
  },
  {
   "cell_type": "markdown",
   "metadata": {},
   "source": [
    "# Metrics visualization"
   ]
  },
  {
   "cell_type": "markdown",
   "metadata": {},
   "source": [
    "Launch the visdom server by calling in a terminal:\n",
    "```shell\n",
    "python -m visdom.server\n",
    "```\n",
    "Open http://localhost:8097/ in your browser to conrfirm the server is running"
   ]
  },
  {
   "cell_type": "code",
   "execution_count": 12,
   "metadata": {},
   "outputs": [],
   "source": [
    "import visdom\n",
    "\n",
    "def train(model, criterion, optimizer, train_data, max_epoch, batch):\n",
    "    viz = visdom.Visdom()\n",
    "    print(\"Visdom session openned {}\".format(viz))\n",
    "    \n",
    "    loss_list = list()\n",
    "    batch_list = list()\n",
    "    \n",
    "    moving_average = list()\n",
    "    moving_average_window = 20\n",
    "    \n",
    "    cur_batch_win = None\n",
    "    cur_batch_win_opts = {\n",
    "        'title': 'Epoch Loss Trace',\n",
    "        'xlabel': 'Batch Number',\n",
    "        'ylabel': 'Loss',\n",
    "        'linecolor': np.array([[0, 190, 190]]),\n",
    "        'width': 1200,\n",
    "        'height': 600,\n",
    "    }\n",
    "    avg_batch_win = None\n",
    "    avg_batch_win_opts = {\n",
    "        'title': 'Epoch Loss Trace',\n",
    "        'xlabel': 'Batch Number',\n",
    "        'ylabel': 'Loss',\n",
    "        'linecolor': np.array([[0, 100, 100]]),\n",
    "        'width': 1200,\n",
    "        'height': 600,\n",
    "    }\n",
    "    \n",
    "\n",
    "    print(\"Starting training {} epoch over {} data in batch of {} images...\".format(max_epoch, len(train_data), batch))\n",
    "    for epoch in range(max_epoch):  # loop over the dataset multiple times\n",
    "        model.train()\n",
    "\n",
    "        running_loss = 0.0\n",
    "        for i, (images, labels) in enumerate(train_data):\n",
    "            # zero the parameter gradients\n",
    "            optimizer.zero_grad()\n",
    "\n",
    "            # forward + backward + optimize\n",
    "            outputs = model(images)\n",
    "            \n",
    "            loss = criterion(outputs, labels)\n",
    "\n",
    "            loss_list.append(loss.detach().cpu().item())\n",
    "            it = epoch*(len(train_data))+i\n",
    "            batch_list.append(it+1)\n",
    "            \n",
    "            moving_average.append(np.sum(loss_list[max(0,it-moving_average_window):it])/\n",
    "                                  (1 if it == 0 else it if it < moving_average_window else moving_average_window))\n",
    "            \n",
    "            # draw lines\n",
    "            if viz.check_connection():\n",
    "                cur_batch_win = viz.line(torch.Tensor(loss_list), torch.Tensor(batch_list), \n",
    "                                         win=cur_batch_win, name='current_batch_loss',\n",
    "                                         update=(None if cur_batch_win is None else 'replace'),\n",
    "                                         opts=cur_batch_win_opts)\n",
    "                    \n",
    "                avg_batch_win = viz.line(torch.Tensor(moving_average), torch.Tensor(batch_list), \n",
    "                                         win=cur_batch_win, name='avg_batch_loss',\n",
    "                                         update=(None if avg_batch_win is None else 'replace'),\n",
    "                                         opts=avg_batch_win_opts)\n",
    "            \n",
    "        \n",
    "            loss.backward()\n",
    "            optimizer.step()\n",
    "\n",
    "            # print statistics\n",
    "            running_loss += loss.item()\n",
    "\n",
    "        print('[{:d}] loss: {:.5f}'.format(epoch + 1, running_loss / (batch*len(train_data))))\n",
    "        \n",
    "    print('Finished Training')"
   ]
  },
  {
   "cell_type": "markdown",
   "metadata": {},
   "source": [
    "## And another one..."
   ]
  },
  {
   "cell_type": "code",
   "execution_count": 13,
   "metadata": {},
   "outputs": [
    {
     "name": "stderr",
     "output_type": "stream",
     "text": [
      "WARNING:root:Setting up a new session...\n"
     ]
    },
    {
     "name": "stdout",
     "output_type": "stream",
     "text": [
      "Visdom session openned <visdom.Visdom object at 0x11bc7fe10>\n",
      "Starting training 3 epoch over 3750 data in batch of 16 images...\n",
      "[1] loss: 0.00975\n",
      "[2] loss: 0.00370\n",
      "[3] loss: 0.00305\n",
      "Finished Training\n",
      "Accuracy of the network on the 625 test images: 98.710%\n",
      "[[ 979    0    0    0    0    0    0    1    0    0]\n",
      " [   0 1129    1    1    0    0    1    1    2    0]\n",
      " [   2    1 1016    1    1    0    1    4    6    0]\n",
      " [   0    0    0 1002    0    3    0    2    3    0]\n",
      " [   0    2    1    0  965    0    3    1    2    8]\n",
      " [   0    0    0   10    0  879    1    0    1    1]\n",
      " [  13    2    0    0    1    5  934    0    3    0]\n",
      " [   0    5    5    2    0    1    0 1012    3    0]\n",
      " [   5    0    1    1    0    1    0    0  963    3]\n",
      " [   1    0    0    0    3    4    0    2    7  992]]\n"
     ]
    },
    {
     "data": {
      "image/png": "[encoded data removed]",
      "text/plain": [
       "<Figure size 432x288 with 1 Axes>"
      ]
     },
     "metadata": {
      "needs_background": "light"
     },
     "output_type": "display_data"
    }
   ],
   "source": [
    "batch = 16\n",
    "\n",
    "data_train_loader = DataLoader(train_set, batch_size=batch, shuffle=True, num_workers=8)\n",
    "data_test_loader = DataLoader(test_set, batch_size=batch, num_workers=8)\n",
    "\n",
    "leNet = Net()\n",
    "criterion = nn.CrossEntropyLoss()\n",
    "optimizer = optim.Adam(leNet.parameters(), lr=2e-3)\n",
    "\n",
    "epoch = 3\n",
    "train(leNet, criterion, optimizer, data_train_loader, epoch, batch)\n",
    "\n",
    "acc = compute_accuracy(data_test_loader, leNet)\n",
    "      \n",
    "print('Accuracy of the network on the {} test images: {:.3f}%'.format(len(data_test_loader), acc))\n",
    "\n",
    "class_correct, class_total, confusion_matrix = perf_analysis(leNet, data_test_loader, classes)\n",
    "\n",
    "display_confusion_matrix(confusion_matrix, classes)"
   ]
  },
  {
   "cell_type": "markdown",
   "metadata": {},
   "source": [
    "## Introducing Ignite\n",
    "\n",
    "From https://github.com/pytorch/ignite\n",
    "Make your life easier to write your training loop."
   ]
  },
  {
   "cell_type": "code",
   "execution_count": 29,
   "metadata": {},
   "outputs": [],
   "source": [
    "from ignite.engine import Events, create_supervised_trainer, create_supervised_evaluator\n",
    "from ignite.metrics import Accuracy, Loss\n",
    "\n",
    "def create_plot_window(vis, xlabel, ylabel, title):\n",
    "    return vis.line(X=np.array([1]), Y=np.array([np.nan]), opts=dict(xlabel=xlabel, ylabel=ylabel, title=title))\n",
    "\n",
    "def runTrainProcess(model, train_set, train_batch_size, test_set, val_batch_size, epochs, lr, log_interval):\n",
    "    vis = visdom.Visdom()\n",
    "\n",
    "    if not vis.check_connection():\n",
    "         raise RuntimeError(\"Visdom server not running. Please run python -m visdom.server\")\n",
    "\n",
    "    train_loader = DataLoader(train_set, batch_size=train_batch_size, shuffle=True, num_workers=8)\n",
    "    val_loader = DataLoader(test_set, batch_size=val_batch_size, num_workers=8)\n",
    "\n",
    "    device = 'cpu'\n",
    "    \n",
    "    optimizer = optim.Adam(model.parameters(), lr=lr)\n",
    "    trainer = create_supervised_trainer(model, optimizer, F.cross_entropy, device=device)\n",
    "    evaluator = create_supervised_evaluator(model, metrics={\n",
    "                                            'accuracy': Accuracy(), \n",
    "                                            'cross_entropy': Loss(F.cross_entropy)},\n",
    "                                            device=device)\n",
    "\n",
    "    train_loss_window = create_plot_window(vis, '#Iterations', 'Loss', 'Training Loss')\n",
    "    train_avg_loss_window = create_plot_window(vis, '#Iterations', 'Loss', 'Training Average Loss')\n",
    "    train_avg_accuracy_window = create_plot_window(vis, '#Iterations', 'Accuracy', 'Training Average Accuracy')\n",
    "    val_avg_loss_window = create_plot_window(vis, '#Epochs', 'Loss', 'Validation Average Loss')\n",
    "    val_avg_accuracy_window = create_plot_window(vis, '#Epochs', 'Accuracy', 'Validation Average Accuracy')\n",
    "\n",
    "    @trainer.on(Events.ITERATION_COMPLETED)\n",
    "    def log_training_loss(engine):\n",
    "        iter = (engine.state.iteration - 1) % len(train_loader) + 1\n",
    "        if iter % log_interval == 0:\n",
    "            print(\"Epoch[{}] Iteration[{}/{}] Loss: {:.2f}\"\n",
    "                  \"\".format(engine.state.epoch, iter, len(train_loader), engine.state.output))\n",
    "            vis.line(X=np.array([engine.state.iteration]),\n",
    "                     Y=np.array([engine.state.output]),\n",
    "                     update='append', win=train_loss_window)\n",
    "\n",
    "    @trainer.on(Events.EPOCH_COMPLETED)\n",
    "    def log_training_results(engine):\n",
    "        evaluator.run(train_loader)\n",
    "        metrics = evaluator.state.metrics\n",
    "        avg_accuracy = metrics['accuracy']\n",
    "        avg_nll = metrics['cross_entropy']\n",
    "        print(\"Training Results - Epoch: {}  Avg accuracy: {:.2f} Avg loss: {:.2f}\"\n",
    "              .format(engine.state.epoch, avg_accuracy, avg_nll))\n",
    "        vis.line(X=np.array([engine.state.epoch]), Y=np.array([avg_accuracy]),\n",
    "                 win=train_avg_accuracy_window, update='append')\n",
    "        vis.line(X=np.array([engine.state.epoch]), Y=np.array([avg_nll]),\n",
    "                 win=train_avg_loss_window, update='append')\n",
    "\n",
    "    @trainer.on(Events.EPOCH_COMPLETED)\n",
    "    def log_validation_results(engine):\n",
    "        evaluator.run(val_loader)\n",
    "        metrics = evaluator.state.metrics\n",
    "        avg_accuracy = metrics['accuracy']\n",
    "        avg_nll = metrics['cross_entropy']\n",
    "        print(\"Validation Results - Epoch: {}  Avg accuracy: {:.2f} Avg loss: {:.2f}\"\n",
    "              .format(engine.state.epoch, avg_accuracy, avg_nll))\n",
    "        vis.line(X=np.array([engine.state.epoch]), Y=np.array([avg_accuracy]),\n",
    "                 win=val_avg_accuracy_window, update='append')\n",
    "        vis.line(X=np.array([engine.state.epoch]), Y=np.array([avg_nll]),\n",
    "                 win=val_avg_loss_window, update='append')\n",
    "\n",
    "    # kick everything off\n",
    "    trainer.run(train_loader, max_epochs=epochs)"
   ]
  },
  {
   "cell_type": "code",
   "execution_count": 31,
   "metadata": {},
   "outputs": [
    {
     "name": "stderr",
     "output_type": "stream",
     "text": [
      "WARNING:root:Setting up a new session...\n"
     ]
    },
    {
     "name": "stdout",
     "output_type": "stream",
     "text": [
      "Epoch[1] Iteration[50/1000] Loss: 0.37\n",
      "Epoch[1] Iteration[100/1000] Loss: 0.25\n",
      "Epoch[1] Iteration[150/1000] Loss: 0.31\n",
      "Epoch[1] Iteration[200/1000] Loss: 0.16\n",
      "Epoch[1] Iteration[250/1000] Loss: 0.03\n",
      "Epoch[1] Iteration[300/1000] Loss: 0.12\n",
      "Epoch[1] Iteration[350/1000] Loss: 0.24\n",
      "Epoch[1] Iteration[400/1000] Loss: 0.12\n",
      "Epoch[1] Iteration[450/1000] Loss: 0.11\n",
      "Epoch[1] Iteration[500/1000] Loss: 0.19\n",
      "Epoch[1] Iteration[550/1000] Loss: 0.09\n",
      "Epoch[1] Iteration[600/1000] Loss: 0.03\n",
      "Epoch[1] Iteration[650/1000] Loss: 0.28\n",
      "Epoch[1] Iteration[700/1000] Loss: 0.06\n",
      "Epoch[1] Iteration[750/1000] Loss: 0.06\n",
      "Epoch[1] Iteration[800/1000] Loss: 0.07\n",
      "Epoch[1] Iteration[850/1000] Loss: 0.12\n",
      "Epoch[1] Iteration[900/1000] Loss: 0.08\n",
      "Epoch[1] Iteration[950/1000] Loss: 0.08\n",
      "Epoch[1] Iteration[1000/1000] Loss: 0.16\n",
      "Training Results - Epoch: 1  Avg accuracy: 0.98 Avg loss: 0.09\n",
      "Validation Results - Epoch: 1  Avg accuracy: 0.97 Avg loss: 0.09\n",
      "Epoch[2] Iteration[50/1000] Loss: 0.16\n",
      "Epoch[2] Iteration[100/1000] Loss: 0.13\n",
      "Epoch[2] Iteration[150/1000] Loss: 0.01\n",
      "Epoch[2] Iteration[200/1000] Loss: 0.07\n",
      "Epoch[2] Iteration[250/1000] Loss: 0.07\n",
      "Epoch[2] Iteration[300/1000] Loss: 0.05\n",
      "Epoch[2] Iteration[350/1000] Loss: 0.16\n",
      "Epoch[2] Iteration[400/1000] Loss: 0.08\n",
      "Epoch[2] Iteration[450/1000] Loss: 0.01\n",
      "Epoch[2] Iteration[500/1000] Loss: 0.17\n",
      "Epoch[2] Iteration[550/1000] Loss: 0.11\n",
      "Epoch[2] Iteration[600/1000] Loss: 0.17\n",
      "Epoch[2] Iteration[650/1000] Loss: 0.10\n",
      "Epoch[2] Iteration[700/1000] Loss: 0.12\n",
      "Epoch[2] Iteration[750/1000] Loss: 0.08\n",
      "Epoch[2] Iteration[800/1000] Loss: 0.10\n",
      "Epoch[2] Iteration[850/1000] Loss: 0.12\n",
      "Epoch[2] Iteration[900/1000] Loss: 0.23\n",
      "Epoch[2] Iteration[950/1000] Loss: 0.02\n",
      "Epoch[2] Iteration[1000/1000] Loss: 0.03\n",
      "Training Results - Epoch: 2  Avg accuracy: 0.97 Avg loss: 0.11\n",
      "Validation Results - Epoch: 2  Avg accuracy: 0.97 Avg loss: 0.13\n",
      "Epoch[3] Iteration[50/1000] Loss: 0.07\n",
      "Epoch[3] Iteration[100/1000] Loss: 0.11\n",
      "Epoch[3] Iteration[150/1000] Loss: 0.04\n",
      "Epoch[3] Iteration[200/1000] Loss: 0.18\n",
      "Epoch[3] Iteration[250/1000] Loss: 0.03\n",
      "Epoch[3] Iteration[300/1000] Loss: 0.19\n",
      "Epoch[3] Iteration[350/1000] Loss: 0.13\n",
      "Epoch[3] Iteration[400/1000] Loss: 0.03\n",
      "Epoch[3] Iteration[450/1000] Loss: 0.03\n",
      "Epoch[3] Iteration[500/1000] Loss: 0.09\n",
      "Epoch[3] Iteration[550/1000] Loss: 0.14\n",
      "Epoch[3] Iteration[600/1000] Loss: 0.12\n",
      "Epoch[3] Iteration[650/1000] Loss: 0.20\n",
      "Epoch[3] Iteration[700/1000] Loss: 0.05\n",
      "Epoch[3] Iteration[750/1000] Loss: 0.34\n",
      "Epoch[3] Iteration[800/1000] Loss: 0.02\n",
      "Epoch[3] Iteration[850/1000] Loss: 0.05\n",
      "Epoch[3] Iteration[900/1000] Loss: 0.09\n",
      "Epoch[3] Iteration[950/1000] Loss: 0.06\n",
      "Epoch[3] Iteration[1000/1000] Loss: 0.15\n",
      "Training Results - Epoch: 3  Avg accuracy: 0.98 Avg loss: 0.06\n",
      "Validation Results - Epoch: 3  Avg accuracy: 0.98 Avg loss: 0.07\n",
      "Epoch[4] Iteration[50/1000] Loss: 0.10\n",
      "Epoch[4] Iteration[100/1000] Loss: 0.02\n",
      "Epoch[4] Iteration[150/1000] Loss: 0.02\n",
      "Epoch[4] Iteration[200/1000] Loss: 0.10\n",
      "Epoch[4] Iteration[250/1000] Loss: 0.07\n",
      "Epoch[4] Iteration[300/1000] Loss: 0.03\n",
      "Epoch[4] Iteration[350/1000] Loss: 0.12\n",
      "Epoch[4] Iteration[400/1000] Loss: 0.14\n",
      "Epoch[4] Iteration[450/1000] Loss: 0.03\n",
      "Epoch[4] Iteration[500/1000] Loss: 0.00\n",
      "Epoch[4] Iteration[550/1000] Loss: 0.06\n",
      "Epoch[4] Iteration[600/1000] Loss: 0.01\n",
      "Epoch[4] Iteration[650/1000] Loss: 0.26\n",
      "Epoch[4] Iteration[700/1000] Loss: 0.00\n",
      "Epoch[4] Iteration[750/1000] Loss: 0.00\n",
      "Epoch[4] Iteration[800/1000] Loss: 0.02\n",
      "Epoch[4] Iteration[850/1000] Loss: 0.09\n",
      "Epoch[4] Iteration[900/1000] Loss: 0.10\n",
      "Epoch[4] Iteration[950/1000] Loss: 0.06\n",
      "Epoch[4] Iteration[1000/1000] Loss: 0.02\n",
      "Training Results - Epoch: 4  Avg accuracy: 0.98 Avg loss: 0.06\n",
      "Validation Results - Epoch: 4  Avg accuracy: 0.98 Avg loss: 0.08\n",
      "Epoch[5] Iteration[50/1000] Loss: 0.03\n",
      "Epoch[5] Iteration[100/1000] Loss: 0.08\n",
      "Epoch[5] Iteration[150/1000] Loss: 0.01\n",
      "Epoch[5] Iteration[200/1000] Loss: 0.08\n",
      "Epoch[5] Iteration[250/1000] Loss: 0.04\n",
      "Epoch[5] Iteration[300/1000] Loss: 0.10\n",
      "Epoch[5] Iteration[350/1000] Loss: 0.12\n",
      "Epoch[5] Iteration[400/1000] Loss: 0.05\n",
      "Epoch[5] Iteration[450/1000] Loss: 0.19\n",
      "Epoch[5] Iteration[500/1000] Loss: 0.06\n",
      "Epoch[5] Iteration[550/1000] Loss: 0.09\n",
      "Epoch[5] Iteration[600/1000] Loss: 0.11\n",
      "Epoch[5] Iteration[650/1000] Loss: 0.03\n",
      "Epoch[5] Iteration[700/1000] Loss: 0.03\n",
      "Epoch[5] Iteration[750/1000] Loss: 0.07\n",
      "Epoch[5] Iteration[800/1000] Loss: 0.03\n",
      "Epoch[5] Iteration[850/1000] Loss: 0.05\n",
      "Epoch[5] Iteration[900/1000] Loss: 0.10\n",
      "Epoch[5] Iteration[950/1000] Loss: 0.01\n",
      "Epoch[5] Iteration[1000/1000] Loss: 0.09\n",
      "Training Results - Epoch: 5  Avg accuracy: 0.98 Avg loss: 0.08\n",
      "Validation Results - Epoch: 5  Avg accuracy: 0.97 Avg loss: 0.11\n",
      "Epoch[6] Iteration[50/1000] Loss: 0.00\n",
      "Epoch[6] Iteration[100/1000] Loss: 0.38\n",
      "Epoch[6] Iteration[150/1000] Loss: 0.01\n",
      "Epoch[6] Iteration[200/1000] Loss: 0.00\n",
      "Epoch[6] Iteration[250/1000] Loss: 0.03\n",
      "Epoch[6] Iteration[300/1000] Loss: 0.06\n",
      "Epoch[6] Iteration[350/1000] Loss: 0.09\n",
      "Epoch[6] Iteration[400/1000] Loss: 0.02\n",
      "Epoch[6] Iteration[450/1000] Loss: 0.15\n",
      "Epoch[6] Iteration[500/1000] Loss: 0.05\n",
      "Epoch[6] Iteration[550/1000] Loss: 0.23\n",
      "Epoch[6] Iteration[600/1000] Loss: 0.20\n",
      "Epoch[6] Iteration[650/1000] Loss: 0.01\n",
      "Epoch[6] Iteration[700/1000] Loss: 0.03\n",
      "Epoch[6] Iteration[750/1000] Loss: 0.03\n",
      "Epoch[6] Iteration[800/1000] Loss: 0.21\n",
      "Epoch[6] Iteration[850/1000] Loss: 0.07\n",
      "Epoch[6] Iteration[900/1000] Loss: 0.19\n",
      "Epoch[6] Iteration[950/1000] Loss: 0.01\n",
      "Epoch[6] Iteration[1000/1000] Loss: 0.04\n",
      "Training Results - Epoch: 6  Avg accuracy: 0.99 Avg loss: 0.05\n",
      "Validation Results - Epoch: 6  Avg accuracy: 0.98 Avg loss: 0.08\n",
      "Epoch[7] Iteration[50/1000] Loss: 0.01\n",
      "Epoch[7] Iteration[100/1000] Loss: 0.02\n",
      "Epoch[7] Iteration[150/1000] Loss: 0.13\n",
      "Epoch[7] Iteration[200/1000] Loss: 0.13\n",
      "Epoch[7] Iteration[250/1000] Loss: 0.15\n",
      "Epoch[7] Iteration[300/1000] Loss: 0.06\n",
      "Epoch[7] Iteration[350/1000] Loss: 0.13\n",
      "Epoch[7] Iteration[400/1000] Loss: 0.02\n",
      "Epoch[7] Iteration[450/1000] Loss: 0.09\n",
      "Epoch[7] Iteration[500/1000] Loss: 0.05\n",
      "Epoch[7] Iteration[550/1000] Loss: 0.08\n",
      "Epoch[7] Iteration[600/1000] Loss: 0.10\n",
      "Epoch[7] Iteration[650/1000] Loss: 0.33\n",
      "Epoch[7] Iteration[700/1000] Loss: 0.03\n",
      "Epoch[7] Iteration[750/1000] Loss: 0.11\n",
      "Epoch[7] Iteration[800/1000] Loss: 0.06\n",
      "Epoch[7] Iteration[850/1000] Loss: 0.05\n",
      "Epoch[7] Iteration[900/1000] Loss: 0.29\n",
      "Epoch[7] Iteration[950/1000] Loss: 0.01\n",
      "Epoch[7] Iteration[1000/1000] Loss: 0.02\n",
      "Training Results - Epoch: 7  Avg accuracy: 0.98 Avg loss: 0.06\n",
      "Validation Results - Epoch: 7  Avg accuracy: 0.98 Avg loss: 0.09\n",
      "Epoch[8] Iteration[50/1000] Loss: 0.01\n",
      "Epoch[8] Iteration[100/1000] Loss: 0.04\n",
      "Epoch[8] Iteration[150/1000] Loss: 0.01\n",
      "Epoch[8] Iteration[200/1000] Loss: 0.06\n",
      "Epoch[8] Iteration[250/1000] Loss: 0.01\n",
      "Epoch[8] Iteration[300/1000] Loss: 0.17\n",
      "Epoch[8] Iteration[350/1000] Loss: 0.03\n",
      "Epoch[8] Iteration[400/1000] Loss: 0.00\n",
      "Epoch[8] Iteration[450/1000] Loss: 0.09\n",
      "Epoch[8] Iteration[500/1000] Loss: 0.02\n",
      "Epoch[8] Iteration[550/1000] Loss: 0.03\n",
      "Epoch[8] Iteration[600/1000] Loss: 0.08\n",
      "Epoch[8] Iteration[650/1000] Loss: 0.07\n",
      "Epoch[8] Iteration[700/1000] Loss: 0.11\n",
      "Epoch[8] Iteration[750/1000] Loss: 0.10\n",
      "Epoch[8] Iteration[800/1000] Loss: 0.00\n",
      "Epoch[8] Iteration[850/1000] Loss: 0.08\n",
      "Epoch[8] Iteration[900/1000] Loss: 0.12\n",
      "Epoch[8] Iteration[950/1000] Loss: 0.07\n",
      "Epoch[8] Iteration[1000/1000] Loss: 0.11\n",
      "Training Results - Epoch: 8  Avg accuracy: 0.99 Avg loss: 0.05\n",
      "Validation Results - Epoch: 8  Avg accuracy: 0.98 Avg loss: 0.09\n",
      "Epoch[9] Iteration[50/1000] Loss: 0.02\n",
      "Epoch[9] Iteration[100/1000] Loss: 0.09\n",
      "Epoch[9] Iteration[150/1000] Loss: 0.10\n",
      "Epoch[9] Iteration[200/1000] Loss: 0.01\n",
      "Epoch[9] Iteration[250/1000] Loss: 0.13\n",
      "Epoch[9] Iteration[300/1000] Loss: 0.05\n",
      "Epoch[9] Iteration[350/1000] Loss: 0.06\n",
      "Epoch[9] Iteration[400/1000] Loss: 0.01\n",
      "Epoch[9] Iteration[450/1000] Loss: 0.00\n",
      "Epoch[9] Iteration[500/1000] Loss: 0.12\n",
      "Epoch[9] Iteration[550/1000] Loss: 0.04\n",
      "Epoch[9] Iteration[600/1000] Loss: 0.01\n",
      "Epoch[9] Iteration[650/1000] Loss: 0.00\n",
      "Epoch[9] Iteration[700/1000] Loss: 0.01\n",
      "Epoch[9] Iteration[750/1000] Loss: 0.06\n",
      "Epoch[9] Iteration[800/1000] Loss: 0.10\n",
      "Epoch[9] Iteration[850/1000] Loss: 0.03\n",
      "Epoch[9] Iteration[900/1000] Loss: 0.05\n",
      "Epoch[9] Iteration[950/1000] Loss: 0.13\n",
      "Epoch[9] Iteration[1000/1000] Loss: 0.08\n"
     ]
    },
    {
     "name": "stdout",
     "output_type": "stream",
     "text": [
      "Training Results - Epoch: 9  Avg accuracy: 0.99 Avg loss: 0.06\n",
      "Validation Results - Epoch: 9  Avg accuracy: 0.98 Avg loss: 0.09\n",
      "Epoch[10] Iteration[50/1000] Loss: 0.10\n",
      "Epoch[10] Iteration[100/1000] Loss: 0.03\n",
      "Epoch[10] Iteration[150/1000] Loss: 0.00\n",
      "Epoch[10] Iteration[200/1000] Loss: 0.07\n",
      "Epoch[10] Iteration[250/1000] Loss: 0.06\n",
      "Epoch[10] Iteration[300/1000] Loss: 0.02\n",
      "Epoch[10] Iteration[350/1000] Loss: 0.02\n",
      "Epoch[10] Iteration[400/1000] Loss: 0.12\n",
      "Epoch[10] Iteration[450/1000] Loss: 0.05\n",
      "Epoch[10] Iteration[500/1000] Loss: 0.12\n",
      "Epoch[10] Iteration[550/1000] Loss: 0.14\n",
      "Epoch[10] Iteration[600/1000] Loss: 0.10\n",
      "Epoch[10] Iteration[650/1000] Loss: 0.12\n",
      "Epoch[10] Iteration[700/1000] Loss: 0.02\n",
      "Epoch[10] Iteration[750/1000] Loss: 0.01\n",
      "Epoch[10] Iteration[800/1000] Loss: 0.19\n",
      "Epoch[10] Iteration[850/1000] Loss: 0.00\n",
      "Epoch[10] Iteration[900/1000] Loss: 0.23\n",
      "Epoch[10] Iteration[950/1000] Loss: 0.07\n",
      "Epoch[10] Iteration[1000/1000] Loss: 0.25\n",
      "Training Results - Epoch: 10  Avg accuracy: 0.99 Avg loss: 0.05\n",
      "Validation Results - Epoch: 10  Avg accuracy: 0.98 Avg loss: 0.09\n"
     ]
    }
   ],
   "source": [
    "model = Net()\n",
    "train_batch_size = 60\n",
    "val_batch_size = 10\n",
    "epochs = 10\n",
    "lr = .01\n",
    "log_interval = 50\n",
    "\n",
    "runTrainProcess(model, train_set, train_batch_size, test_set, val_batch_size, epochs, lr, log_interval)\n"
   ]
  },
  {
   "cell_type": "markdown",
   "metadata": {},
   "source": [
    "# TODO\n",
    "\n",
    "- Stopping criteria\n",
    "- Detect overfitting / underfitting\n"
   ]
  },
  {
   "cell_type": "code",
   "execution_count": null,
   "metadata": {},
   "outputs": [],
   "source": []
  }
 ],
 "metadata": {
  "kernelspec": {
   "display_name": "mktd-pytorch",
   "language": "python",
   "name": "mktd-pytorch"
  },
  "language_info": {
   "codemirror_mode": {
    "name": "ipython",
    "version": 3
   },
   "file_extension": ".py",
   "mimetype": "text/x-python",
   "name": "python",
   "nbconvert_exporter": "python",
   "pygments_lexer": "ipython3",
   "version": "3.6.8"
  }
 },
 "nbformat": 4,
 "nbformat_minor": 2
}
