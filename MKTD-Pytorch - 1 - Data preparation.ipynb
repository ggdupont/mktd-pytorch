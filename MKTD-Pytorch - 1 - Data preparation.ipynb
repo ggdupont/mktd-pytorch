{
 "cells": [
  {
   "cell_type": "markdown",
   "metadata": {},
   "source": [
    "# Exercices\n",
    "\n",
    "With each exercice will teach you one aspect of deep learning.\n",
    "The process of machine learning can be decompose in 7 steps :\n",
    "\n",
    "0. Data acquisition\n",
    "1. Data preparation\n",
    "2. Model definition\n",
    "3. Model training\n",
    "4. Model evaluation\n",
    "5. Hyperparameter tuning\n",
    "6. Prediction"
   ]
  },
  {
   "cell_type": "markdown",
   "metadata": {},
   "source": [
    "# 1 - Data Preparation\n",
    "\n",
    "- 1.1 pandas : Load a dataset from CSV file using pandas library\n",
    "- 1.2 numpy : Use numpy to reshape some arrays\n",
    "- 1.3 sklearn? : Data normalization (mean and standard deviation)\n",
    "- 1.4 Training and validation data separation\n",
    "- 1.5 matplot : visualize images / matrix\n",
    "- 1.6 matplot : visualize distribution of data by categories"
   ]
  },
  {
   "cell_type": "code",
   "execution_count": null,
   "metadata": {},
   "outputs": [],
   "source": []
  }
 ],
 "metadata": {
  "kernelspec": {
   "display_name": "mktd-pytorch",
   "language": "python",
   "name": "mktd-pytorch"
  },
  "language_info": {
   "codemirror_mode": {
    "name": "ipython",
    "version": 3
   },
   "file_extension": ".py",
   "mimetype": "text/x-python",
   "name": "python",
   "nbconvert_exporter": "python",
   "pygments_lexer": "ipython3",
   "version": "3.6.8"
  }
 },
 "nbformat": 4,
 "nbformat_minor": 2
}
